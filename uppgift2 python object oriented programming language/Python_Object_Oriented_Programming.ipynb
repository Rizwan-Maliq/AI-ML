{
  "nbformat": 4,
  "nbformat_minor": 0,
  "metadata": {
    "colab": {
      "provenance": []
    },
    "kernelspec": {
      "name": "python3",
      "display_name": "Python 3"
    },
    "language_info": {
      "name": "python"
    }
  },
  "cells": [
    {
      "cell_type": "code",
      "source": [
        "class NumberGuessGame:\n",
        "    def __init__(self):\n",
        "        self.player_name = \"\"\n",
        "\n",
        "    def get_player_name(self):\n",
        "        while True:\n",
        "            player_name_input = input(\"Enter your full name: \")\n",
        "\n",
        "            # Only characters and one space allowed\n",
        "            if all(c.isalpha() or c.isspace() for c in player_name_input) and player_name_input.count(' ') == 1:\n",
        "                self.player_name = player_name_input\n",
        "                print(\"Name saved. Proceed with the game.\")\n",
        "                break\n",
        "            else:\n",
        "                print(\"Invalid input. Please enter a valid name with one space.\")"
      ],
      "metadata": {
        "id": "H09ODZ1mN8Mi"
      },
      "execution_count": 6,
      "outputs": []
    },
    {
      "cell_type": "code",
      "source": [
        "# Create an instance of the NumberGuessGame class\n",
        "game_instance = NumberGuessGame()"
      ],
      "metadata": {
        "id": "QDSJNrHlOC1v"
      },
      "execution_count": 7,
      "outputs": []
    },
    {
      "cell_type": "code",
      "source": [
        "# Get the player's name\n",
        "game_instance.get_player_name()"
      ],
      "metadata": {
        "colab": {
          "base_uri": "https://localhost:8080/"
        },
        "id": "o7TNk8t1OHO5",
        "outputId": "acb858c2-816d-4196-dca9-65611ecbee2e"
      },
      "execution_count": null,
      "outputs": [
        {
          "output_type": "stream",
          "name": "stdout",
          "text": [
            "Enter your full name: Rizwan Malik\n",
            "Name saved. Proceed with the game.\n"
          ]
        }
      ]
    },
    {
      "cell_type": "code",
      "source": [
        "class GuessGame:\n",
        "    def __init__(self):\n",
        "        self.player_name = \"\"\n",
        "        self.player_birthdate = \"\"\n",
        "\n",
        "    def get_player_birthdate(self):\n",
        "        while True:\n",
        "            player_birthdate_input = input(\"Enter your birthdate (yyyymmdd): \")\n",
        "\n",
        "            if (\n",
        "                len(player_birthdate_input) == 8 and\n",
        "                player_birthdate_input.isdigit() and\n",
        "                1900 <= int(player_birthdate_input[:4]) <= 9999 and\n",
        "                1 <= int(player_birthdate_input[4:6]) <= 12 and\n",
        "                1 <= int(player_birthdate_input[6:]) <= 31\n",
        "            ):\n",
        "                self.player_birthdate = player_birthdate_input\n",
        "                print(\"Birthdate saved. Let's continue.\")\n",
        "                break\n",
        "            else:\n",
        "                print(\"Invalid input. Please enter a valid birthdate in yyyymmdd format.\")\n",
        "\n",
        "# Create an instance of the GuessGame class\n",
        "game_instance = GuessGame()\n",
        "\n",
        "# Get the player's birthdate\n",
        "game_instance.get_player_birthdate()\n"
      ],
      "metadata": {
        "colab": {
          "base_uri": "https://localhost:8080/"
        },
        "id": "UMabk2qQPbVr",
        "outputId": "967b3e19-875e-4811-c953-ac08f2db40f4"
      },
      "execution_count": 8,
      "outputs": [
        {
          "output_type": "stream",
          "name": "stdout",
          "text": [
            "Enter your birthdate (yyyymmdd): 19840823\n",
            "Birthdate saved. Let's continue.\n"
          ]
        }
      ]
    },
    {
      "cell_type": "code",
      "source": [
        "from datetime import datetime\n",
        "\n",
        "class NumberGuessGame:\n",
        "    def __init__(self):\n",
        "        self.player_name = \"\"\n",
        "        self.player_birthdate = \"\"\n",
        "        self.player_age = 0\n",
        "\n",
        "    def get_player_birthdate(self):\n",
        "        while True:\n",
        "            player_birthdate_input = input(\"Enter your birthdate (yyyymmdd): \")\n",
        "\n",
        "            # Validate input: Check for a valid year, month, and day\n",
        "            if (\n",
        "                len(player_birthdate_input) == 8 and\n",
        "                player_birthdate_input.isdigit() and\n",
        "                1900 <= int(player_birthdate_input[:4]) <= 9999 and\n",
        "                1 <= int(player_birthdate_input[4:6]) <= 12 and\n",
        "                1 <= int(player_birthdate_input[6:]) <= 31\n",
        "            ):\n",
        "                self.player_birthdate = player_birthdate_input\n",
        "                print(\"Birthdate saved.\")\n",
        "                break\n",
        "            else:\n",
        "                print(\"Invalid input. Please enter a valid birthdate in yyyymmdd format.\")\n",
        "\n",
        "    def calculate_and_save_player_age(self):\n",
        "        # Check if player_birthdate is set\n",
        "        if self.player_birthdate:\n",
        "            birthdate_obj = datetime.strptime(self.player_birthdate, \"%Y%m%d\")\n",
        "            today = datetime.now()\n",
        "            age = today.year - birthdate_obj.year - ((today.month, today.day) < (birthdate_obj.month, birthdate_obj.day))\n",
        "\n",
        "            # Save the calculated age\n",
        "            self.player_age = age\n",
        "            print(f\"Player age calculated and saved: {self.player_age} years.\")\n",
        "        else:\n",
        "            print(\"Error: Player birthdate is not set. Please set the birthdate first.\")\n",
        "\n",
        "# Create an instance of the NumberGuessGame class\n",
        "game_instance = NumberGuessGame()\n",
        "\n",
        "# Get the player's birthdate\n",
        "game_instance.get_player_birthdate()\n",
        "\n",
        "# Calculate and save player's age\n",
        "game_instance.calculate_and_save_player_age()\n"
      ],
      "metadata": {
        "colab": {
          "base_uri": "https://localhost:8080/"
        },
        "id": "PyOOw_tsBALE",
        "outputId": "a6a33891-54ed-4491-ce8c-4d9007379936"
      },
      "execution_count": 9,
      "outputs": [
        {
          "output_type": "stream",
          "name": "stdout",
          "text": [
            "Enter your birthdate (yyyymmdd): 19840823\n",
            "Birthdate saved.\n",
            "Player age calculated and saved: 39 years.\n"
          ]
        }
      ]
    },
    {
      "cell_type": "code",
      "source": [
        "from datetime import datetime\n",
        "\n",
        "class NumberGuessGame:\n",
        "    def __init__(self):\n",
        "        self.player_name = \"\"\n",
        "        self.player_birthdate = \"\"\n",
        "        self.player_age = 0\n",
        "\n",
        "    def get_player_birthdate(self):\n",
        "        while True:\n",
        "            player_birthdate_input = input(\"Enter your birthdate (yyyymmdd): \")\n",
        "\n",
        "            # Validate input: Check for a valid year, month, and day\n",
        "            if (\n",
        "                len(player_birthdate_input) == 8 and\n",
        "                player_birthdate_input.isdigit() and\n",
        "                1900 <= int(player_birthdate_input[:4]) <= 9999 and\n",
        "                1 <= int(player_birthdate_input[4:6]) <= 12 and\n",
        "                1 <= int(player_birthdate_input[6:]) <= 31\n",
        "            ):\n",
        "                self.player_birthdate = player_birthdate_input\n",
        "                print(\"Birthdate saved.\")\n",
        "                break\n",
        "            else:\n",
        "                print(\"Invalid input. Please enter a valid birthdate in yyyymmdd format.\")\n",
        "\n",
        "    def calculate_and_save_player_age(self):\n",
        "        # Check if player_birthdate is set\n",
        "        if self.player_birthdate:\n",
        "            birthdate_obj = datetime.strptime(self.player_birthdate, \"%Y%m%d\")\n",
        "            today = datetime.now()\n",
        "            age = today.year - birthdate_obj.year - ((today.month, today.day) < (birthdate_obj.month, birthdate_obj.day))\n",
        "\n",
        "            # Save the calculated age\n",
        "            self.player_age = age\n",
        "            print(f\"Player age calculated and saved: {self.player_age} years.\")\n",
        "        else:\n",
        "            print(\"Error: Player birthdate is not set. Please set the birthdate first.\")\n",
        "\n",
        "    def check_age_and_proceed(self):\n",
        "        # Check if player_age is greater than or equal to 18\n",
        "        if self.player_age >= 18:\n",
        "            print(\"Player is 18 or older. Proceeding to the next step.\")\n",
        "        else:\n",
        "            print(\"Player is under 18. Please provide valid information.\")\n",
        "\n",
        "            self.get_player_birthdate()\n",
        "            self.calculate_and_save_player_age()\n",
        "            # After getting new information, recheck age and proceed\n",
        "            self.check_age_and_proceed()\n",
        "\n",
        "# Create an instance of the NumberGuessGame class\n",
        "game_instance = NumberGuessGame()\n",
        "\n",
        "# Get the player's birthdate\n",
        "game_instance.get_player_birthdate()\n",
        "\n",
        "# Calculate and save player's age\n",
        "game_instance.calculate_and_save_player_age()\n",
        "\n",
        "# Check age and proceed or re-enter steps #2 and #3\n",
        "game_instance.check_age_and_proceed()\n"
      ],
      "metadata": {
        "colab": {
          "base_uri": "https://localhost:8080/"
        },
        "id": "Vk-IlQmRSQo4",
        "outputId": "5f9adcf7-ad3c-441e-ecd0-456da35aa719"
      },
      "execution_count": 10,
      "outputs": [
        {
          "output_type": "stream",
          "name": "stdout",
          "text": [
            "Enter your birthdate (yyyymmdd): 19840823\n",
            "Birthdate saved.\n",
            "Player age calculated and saved: 39 years.\n",
            "Player is 18 or older. Proceeding to the next step.\n"
          ]
        }
      ]
    },
    {
      "cell_type": "code",
      "source": [
        "from datetime import datetime\n",
        "import random\n",
        "\n",
        "class NumberGuessGame:\n",
        "    def __init__(self):\n",
        "        self.player_name = \"\"\n",
        "        self.player_birthdate = \"\"\n",
        "        self.player_age = 0\n",
        "        self.lucky_list = []\n",
        "\n",
        "    def get_player_birthdate(self):\n",
        "        while True:\n",
        "            player_birthdate_input = input(\"Enter your birthdate (yyyymmdd): \")\n",
        "\n",
        "            # Validate input: Check for a valid year, month, and day\n",
        "            if (\n",
        "                len(player_birthdate_input) == 8 and\n",
        "                player_birthdate_input.isdigit() and\n",
        "                1900 <= int(player_birthdate_input[:4]) <= 9999 and\n",
        "                1 <= int(player_birthdate_input[4:6]) <= 12 and\n",
        "                1 <= int(player_birthdate_input[6:]) <= 31\n",
        "            ):\n",
        "                self.player_birthdate = player_birthdate_input\n",
        "                print(\"Birthdate saved.\")\n",
        "                break\n",
        "            else:\n",
        "                print(\"Invalid input. Please enter a valid birthdate in yyyymmdd format.\")\n",
        "\n",
        "    def calculate_and_save_player_age(self):\n",
        "        # Check if player_birthdate is set\n",
        "        if self.player_birthdate:\n",
        "            birthdate_obj = datetime.strptime(self.player_birthdate, \"%Y%m%d\")\n",
        "            today = datetime.now()\n",
        "            age = today.year - birthdate_obj.year - ((today.month, today.day) < (birthdate_obj.month, birthdate_obj.day))\n",
        "\n",
        "            # Save the calculated age\n",
        "            self.player_age = age\n",
        "            print(f\"Player age calculated and saved: {self.player_age} years.\")\n",
        "        else:\n",
        "            print(\"Error: Player birthdate is not set. Please set the birthdate first.\")\n",
        "\n",
        "    def check_age_and_proceed(self):\n",
        "        # Check if player_age is greater than or equal to 18\n",
        "        if self.player_age >= 18:\n",
        "            print(\"Player is 18 or older. Proceeding to the next step.\")\n",
        "            # Continue with Step #5 or relevant actions\n",
        "            self.generate_lucky_list()\n",
        "        else:\n",
        "            print(\"Player is under 18. Please provide valid information.\")\n",
        "            # Ask for both steps #2 and #3 again\n",
        "            self.get_player_birthdate()\n",
        "            self.calculate_and_save_player_age()\n",
        "            # After getting new information, recheck age and proceed\n",
        "            self.check_age_and_proceed()\n",
        "\n",
        "    def generate_lucky_list(self):\n",
        "        # Generate a lucky list of 9 integers between 0 and 100\n",
        "        self.lucky_list = random.sample(range(101), 9)\n",
        "        print(f\"Lucky list generated: {self.lucky_list}\")\n",
        "\n",
        "# Create an instance of the NumberGuessGame class\n",
        "game_instance = NumberGuessGame()\n",
        "\n",
        "# Get the player's birthdate\n",
        "game_instance.get_player_birthdate()\n",
        "\n",
        "# Calculate and save player's age\n",
        "game_instance.calculate_and_save_player_age()\n",
        "\n",
        "# Check age and proceed or re-enter steps #2 and #3\n",
        "game_instance.check_age_and_proceed()\n"
      ],
      "metadata": {
        "colab": {
          "base_uri": "https://localhost:8080/"
        },
        "id": "rqWofATxSq3n",
        "outputId": "5fd4abe0-649c-45d2-d4e9-29c72299f30c"
      },
      "execution_count": 11,
      "outputs": [
        {
          "output_type": "stream",
          "name": "stdout",
          "text": [
            "Enter your birthdate (yyyymmdd): 19840823\n",
            "Birthdate saved.\n",
            "Player age calculated and saved: 39 years.\n",
            "Player is 18 or older. Proceeding to the next step.\n",
            "Lucky list generated: [25, 9, 97, 62, 88, 1, 3, 94, 38]\n"
          ]
        }
      ]
    },
    {
      "cell_type": "code",
      "source": [
        "from datetime import datetime\n",
        "import random\n",
        "\n",
        "class NumberGuessGame:\n",
        "    def __init__(self):\n",
        "        self.player_name = \"\"\n",
        "        self.player_birthdate = \"\"\n",
        "        self.player_age = 0\n",
        "        self.lucky_list = []\n",
        "        self.lucky_number = 0\n",
        "\n",
        "    def get_player_birthdate(self):\n",
        "        while True:\n",
        "            player_birthdate_input = input(\"Enter your birthdate (yyyymmdd): \")\n",
        "\n",
        "            # Validate input: Check for a valid year, month, and day\n",
        "            if (\n",
        "                len(player_birthdate_input) == 8 and\n",
        "                player_birthdate_input.isdigit() and\n",
        "                1900 <= int(player_birthdate_input[:4]) <= 9999 and\n",
        "                1 <= int(player_birthdate_input[4:6]) <= 12 and\n",
        "                1 <= int(player_birthdate_input[6:]) <= 31\n",
        "            ):\n",
        "                self.player_birthdate = player_birthdate_input\n",
        "                print(\"Birthdate saved.\")\n",
        "                break\n",
        "            else:\n",
        "                print(\"Invalid input. Please enter a valid birthdate in yyyymmdd format.\")\n",
        "\n",
        "    def calculate_and_save_player_age(self):\n",
        "        # Check if player_birthdate is set\n",
        "        if self.player_birthdate:\n",
        "            birthdate_obj = datetime.strptime(self.player_birthdate, \"%Y%m%d\")\n",
        "            today = datetime.now()\n",
        "            age = today.year - birthdate_obj.year - ((today.month, today.day) < (birthdate_obj.month, birthdate_obj.day))\n",
        "\n",
        "            # Save the calculated age\n",
        "            self.player_age = age\n",
        "            print(f\"Player age calculated and saved: {self.player_age} years.\")\n",
        "        else:\n",
        "            print(\"Error: Player birthdate is not set. Please set the birthdate first.\")\n",
        "\n",
        "    def check_age_and_proceed(self):\n",
        "        # Check if player_age is greater than or equal to 18\n",
        "        if self.player_age >= 18:\n",
        "            print(\"Player is 18 or older. Proceeding to the next step.\")\n",
        "\n",
        "            self.generate_lucky_list()\n",
        "            self.generate_and_add_lucky_number()\n",
        "        else:\n",
        "            print(\"Player is under 18. Please provide valid information.\")\n",
        "\n",
        "            self.get_player_birthdate()\n",
        "            self.calculate_and_save_player_age()\n",
        "\n",
        "            self.check_age_and_proceed()\n",
        "\n",
        "    def generate_lucky_list(self):\n",
        "\n",
        "        self.lucky_list = random.sample(range(101), 9)\n",
        "        print(f\"Lucky list generated: {self.lucky_list}\")\n",
        "\n",
        "    def generate_and_add_lucky_number(self):\n",
        "\n",
        "        self.lucky_number = random.randint(0, 100)\n",
        "\n",
        "        # Add the lucky number to the lucky list\n",
        "        self.lucky_list.append(self.lucky_number)\n",
        "\n",
        "        print(f\"Lucky number generated and added: {self.lucky_number}\")\n",
        "        print(f\"Updated lucky list: {self.lucky_list}\")\n",
        "\n",
        "game_instance = NumberGuessGame()\n",
        "\n",
        "# Get the player's birthdate\n",
        "game_instance.get_player_birthdate()\n",
        "\n",
        "# Calculate and save player's age\n",
        "game_instance.calculate_and_save_player_age()\n",
        "\n",
        "game_instance.check_age_and_proceed()"
      ],
      "metadata": {
        "id": "X_VCOzNaTI29",
        "colab": {
          "base_uri": "https://localhost:8080/"
        },
        "outputId": "cbf78cb1-560a-4e68-c74f-54b241c50732"
      },
      "execution_count": 12,
      "outputs": [
        {
          "output_type": "stream",
          "name": "stdout",
          "text": [
            "Enter your birthdate (yyyymmdd): 19840823\n",
            "Birthdate saved.\n",
            "Player age calculated and saved: 39 years.\n",
            "Player is 18 or older. Proceeding to the next step.\n",
            "Lucky list generated: [63, 88, 19, 69, 18, 72, 75, 26, 12]\n",
            "Lucky number generated and added: 100\n",
            "Updated lucky list: [63, 88, 19, 69, 18, 72, 75, 26, 12, 100]\n"
          ]
        }
      ]
    }
  ]
}