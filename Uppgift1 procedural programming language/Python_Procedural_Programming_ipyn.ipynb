{
  "nbformat": 4,
  "nbformat_minor": 0,
  "metadata": {
    "colab": {
      "provenance": []
    },
    "kernelspec": {
      "name": "python3",
      "display_name": "Python 3"
    },
    "language_info": {
      "name": "python"
    }
  },
  "cells": [
    {
      "cell_type": "code",
      "source": [
        "# Check if a character is a letter or a space\n",
        "def is_valid_char(char):\n",
        "    return char.isalpha() or char.isspace()"
      ],
      "metadata": {
        "id": "fCLOksYBLLG4"
      },
      "execution_count": null,
      "outputs": []
    },
    {
      "cell_type": "code",
      "source": [
        "# Check if player_name is valid\n",
        "def is_valid_player_name(player_name):\n",
        "\n",
        "    # To check if all characters are valid\n",
        "    all_valid_chars = all(is_valid_char(char) for char in player_name)\n",
        "\n",
        "    # Check if there is exactly one space\n",
        "    one_space = player_name.count(' ') == 1\n",
        "\n",
        "     # If all characters are valid and there is exactly one space, return player_name\n",
        "    if all_valid_chars and one_space:\n",
        "        return player_name\n",
        "    else:\n",
        "        # If the conditions are not met, print an error message\n",
        "        print(\"Invalid input. Please enter a valid name.\")"
      ],
      "metadata": {
        "id": "zbw35iJiLUei"
      },
      "execution_count": null,
      "outputs": []
    },
    {
      "cell_type": "code",
      "source": [
        "name_input = input(\"Enter your full name (no numbers, no space between first and last name): \")\n",
        "result = is_valid_player_name(name_input)\n",
        "if result:\n",
        "    print(\"Valid name! Proceed with the game.\")\n",
        "else:\n",
        "    print(\"Invalid name. Please try again.\")"
      ],
      "metadata": {
        "id": "X1H4BlnlM7Ov",
        "colab": {
          "base_uri": "https://localhost:8080/"
        },
        "outputId": "e6c41f6b-71b3-43db-ec5d-fd208669bb09"
      },
      "execution_count": null,
      "outputs": [
        {
          "output_type": "stream",
          "name": "stdout",
          "text": [
            "Enter your full name (no numbers, no space between first and last name): Rizwan Malik\n",
            "Valid name! Proceed with the game.\n"
          ]
        }
      ]
    },
    {
      "cell_type": "code",
      "source": [
        "# To get player input for birthdate\n",
        "def get_input():\n",
        "    while True:\n",
        "        try:\n",
        "            user_input = input(\"Enter player birthdate (yyyymmdd): \")\n",
        "            return user_input\n",
        "        except ValueError:\n",
        "            print(\"Invalid input. Please enter a valid date in the format yyyymmdd.\")"
      ],
      "metadata": {
        "id": "0TJdVhtCHRlO"
      },
      "execution_count": null,
      "outputs": []
    },
    {
      "cell_type": "code",
      "source": [
        "# To extract year, month, and day\n",
        "def extract_date(date_input):\n",
        "    try:\n",
        "\n",
        "        year = int(date_input[0:4])\n",
        "\n",
        "        month = int(date_input[4:6])\n",
        "\n",
        "        day = int(date_input[6:8])\n",
        "\n",
        "        return year, month, day\n",
        "\n",
        "    except ValueError:\n",
        "\n",
        "        raise ValueError(\"Invalid date. Please enter a valid date in the format yyyymmdd.\")"
      ],
      "metadata": {
        "id": "miKtqvLYHdVx"
      },
      "execution_count": null,
      "outputs": []
    },
    {
      "cell_type": "code",
      "source": [
        "# To check if the date is valid\n",
        "def is_valid_date(year, month, day):\n",
        "\n",
        "    if year < 1900:\n",
        "        return False\n",
        "\n",
        "    if not (1 <= month <= 12):\n",
        "        return False\n",
        "\n",
        "    if not (1 <= day <= 31):\n",
        "        return False\n",
        "\n",
        "    return True"
      ],
      "metadata": {
        "id": "ZQPhRZ0wIrxS"
      },
      "execution_count": null,
      "outputs": []
    },
    {
      "cell_type": "code",
      "source": [
        "# To get player's birthdate\n",
        "def get_player_birthdate():\n",
        "    while True:\n",
        "        date_input = get_input()\n",
        "        year, month, day = extract_date(date_input)\n",
        "\n",
        "        if is_valid_date(year, month, day):\n",
        "            player_birthdate = date_input\n",
        "            print(f\"Player birthdate saved: {player_birthdate}\")\n",
        "\n",
        "            return player_birthdate\n",
        "        else:\n",
        "            print(\"Invalid date. Please enter a valid date.\")"
      ],
      "metadata": {
        "id": "0SkNqU-3IzKn"
      },
      "execution_count": null,
      "outputs": []
    },
    {
      "cell_type": "code",
      "source": [
        "player_birthdate = get_player_birthdate()"
      ],
      "metadata": {
        "id": "tC9J-G1yI8vt",
        "colab": {
          "base_uri": "https://localhost:8080/"
        },
        "outputId": "000e0623-511b-4c94-bdeb-adcf3f8af6ef"
      },
      "execution_count": null,
      "outputs": [
        {
          "output_type": "stream",
          "name": "stdout",
          "text": [
            "Enter player birthdate (yyyymmdd): 19840823\n",
            "Player birthdate saved: 19840823\n"
          ]
        }
      ]
    },
    {
      "cell_type": "code",
      "source": [
        "# To calculate the player's age\n",
        "from datetime import datetime\n",
        "def calculate_age(player_birthdate):\n",
        "    birthdate = datetime.strptime(player_birthdate, \"%Y%m%d\")\n",
        "    current_date = datetime.now()\n",
        "    player_age = current_date.year - birthdate.year - ((current_date.month, current_date.day) < (birthdate.month, birthdate.day))\n",
        "    return player_age"
      ],
      "metadata": {
        "id": "EXdypNJRJDR3"
      },
      "execution_count": null,
      "outputs": []
    },
    {
      "cell_type": "code",
      "source": [
        "# To get and display the player's age\n",
        "def get_and_display_player_age(player_birthdate):\n",
        "    player_age = calculate_age(player_birthdate)\n",
        "    print(f\"Player age: {player_age} years\")\n",
        "    return player_age\n",
        "\n",
        "player_birthdate = get_player_birthdate()\n",
        "\n",
        "get_and_display_player_age(player_birthdate)"
      ],
      "metadata": {
        "id": "s2y6TqHxJHsp",
        "colab": {
          "base_uri": "https://localhost:8080/"
        },
        "outputId": "e704b07b-a8d2-4599-b84b-af14b03f27de"
      },
      "execution_count": null,
      "outputs": [
        {
          "output_type": "stream",
          "name": "stdout",
          "text": [
            "Enter player birthdate (yyyymmdd): 19840823\n",
            "Player birthdate saved: 19840823\n",
            "Player age: 39 years\n"
          ]
        },
        {
          "output_type": "execute_result",
          "data": {
            "text/plain": [
              "39"
            ]
          },
          "metadata": {},
          "execution_count": 12
        }
      ]
    },
    {
      "cell_type": "code",
      "source": [
        "# To check if the player is 18 or older\n",
        "def is_player_adult(player_age):\n",
        "    return player_age >= 18"
      ],
      "metadata": {
        "id": "xgkdzolCL7wq"
      },
      "execution_count": null,
      "outputs": []
    },
    {
      "cell_type": "code",
      "source": [
        "# To handle the entire process\n",
        "def play_game():\n",
        "    while True:\n",
        "        player_birthdate = get_player_birthdate()\n",
        "        player_age = calculate_age(player_birthdate)\n",
        "\n",
        "        if is_player_adult(player_age):\n",
        "            print(\"Player is eligible to play!\")\n",
        "            break\n",
        "        else:\n",
        "            print(\"Sorry, you must be 18 or older to play. Please enter a valid birthdate.\")\n"
      ],
      "metadata": {
        "id": "-ss_sJWmeaB3"
      },
      "execution_count": null,
      "outputs": []
    },
    {
      "cell_type": "code",
      "source": [
        "# To start the game\n",
        "play_game()"
      ],
      "metadata": {
        "id": "Pon0Nebtej91",
        "colab": {
          "base_uri": "https://localhost:8080/"
        },
        "outputId": "5351ce7f-ab2c-4778-9caa-873dcbf320d8"
      },
      "execution_count": null,
      "outputs": [
        {
          "output_type": "stream",
          "name": "stdout",
          "text": [
            "Enter player birthdate (yyyymmdd): 19840823\n",
            "Player birthdate saved: 19840823\n",
            "Player is eligible to play!\n"
          ]
        }
      ]
    },
    {
      "cell_type": "code",
      "source": [
        "# To generate a lucky list\n",
        "import random\n",
        "\n",
        "def generate_lucky_list():\n",
        "    lucky_list = random.sample(range(101), 9)\n",
        "    return lucky_list\n",
        "\n",
        "lucky_list = generate_lucky_list()\n",
        "\n",
        "# Print the generated lucky list\n",
        "print(\"Generated Lucky List:\", lucky_list)"
      ],
      "metadata": {
        "colab": {
          "base_uri": "https://localhost:8080/"
        },
        "id": "XGQIWXgSf7_0",
        "outputId": "21d8b80d-b006-4cc6-db0b-8dfe57c082ce"
      },
      "execution_count": null,
      "outputs": [
        {
          "output_type": "stream",
          "name": "stdout",
          "text": [
            "Generated Lucky List: [50, 84, 59, 28, 15, 62, 74, 75, 68]\n"
          ]
        }
      ]
    },
    {
      "cell_type": "code",
      "source": [
        "import random\n",
        "\n",
        "# To generate a lucky number\n",
        "def generate_lucky_number():\n",
        "    return random.randint(0, 100)\n",
        "\n",
        "# Add the lucky number to the lucky list\n",
        "def add_lucky_number(lucky_list, lucky_number):\n",
        "    lucky_list.append(lucky_number)\n",
        "\n",
        "# To generate a lucky list\n",
        "def generate_lucky_list():\n",
        "    lucky_list = random.sample(range(101), 9)\n",
        "    return lucky_list\n",
        "\n",
        "lucky_list = generate_lucky_list()\n",
        "\n",
        "#  To generate a lucky number\n",
        "lucky_number = generate_lucky_number()\n",
        "\n",
        "# To add the lucky number to the lucky list\n",
        "add_lucky_number(lucky_list, lucky_number)\n",
        "\n",
        "# Print the updated lucky list\n",
        "print(\"Updated Lucky List:\", lucky_list)"
      ],
      "metadata": {
        "colab": {
          "base_uri": "https://localhost:8080/"
        },
        "id": "IiU_jZNohPxz",
        "outputId": "adbb7ab7-b564-40cc-a643-1d11dfffdd64"
      },
      "execution_count": null,
      "outputs": [
        {
          "output_type": "stream",
          "name": "stdout",
          "text": [
            "Updated Lucky List: [97, 51, 11, 79, 18, 65, 78, 90, 23, 35]\n"
          ]
        }
      ]
    },
    {
      "cell_type": "code",
      "source": [
        "import random\n",
        "\n",
        "lucky_list_size = 10  # You can adjust the size of the lucky list\n",
        "lucky_list = random.sample(range(1, 100), lucky_list_size)\n",
        "tries_count = 0\n",
        "\n",
        "while True:\n",
        "    # CPU prints the lucky_list\n",
        "    print(\"Lucky List:\", lucky_list)\n",
        "\n",
        "    # CPU asks player to pick a lucky number\n",
        "    player_input = int(input(\"Pick a lucky number from the list: \"))\n",
        "\n",
        "    # Increment the tries_count\n",
        "    tries_count += 1\n",
        "\n",
        "\n",
        "    if player_input in lucky_list:\n",
        "        print(f\"Congrats, game is over! You got the lucky number on try #{tries_count} :)\")\n",
        "        play_again = input(\"Do you want to play again? (Input 'y' for Yes, 'n' for No): \")\n",
        "\n",
        "        if play_again.lower() != 'y':\n",
        "            print(\"Goodbye! Exiting the game.\")\n",
        "            break  # Exit the loop if the player doesn't want to play again\n",
        "        else:\n",
        "            # Reset tries_count and generate a new random lucky list for a new game\n",
        "            tries_count = 0\n",
        "            lucky_list = random.sample(range(1, 100), lucky_list_size)\n",
        "            continue  # Go back to the beginning of the loop for a new game\n",
        "    else:\n",
        "        print(\"Sorry, that's not the lucky number. Try again.\")\n"
      ],
      "metadata": {
        "colab": {
          "base_uri": "https://localhost:8080/"
        },
        "id": "pmaUFR28V0Yb",
        "outputId": "ad67ac40-0b49-4271-a321-682269ef3f75"
      },
      "execution_count": null,
      "outputs": [
        {
          "output_type": "stream",
          "name": "stdout",
          "text": [
            "Lucky List: [77, 72, 54, 50, 44, 95, 11, 81, 1, 62]\n",
            "Pick a lucky number from the list: 62\n",
            "Congrats, game is over! You got the lucky number on try #1 :)\n",
            "Do you want to play again? (Input 'y' for Yes, 'n' for No): n\n",
            "Goodbye! Exiting the game.\n"
          ]
        }
      ]
    },
    {
      "cell_type": "code",
      "source": [
        "# Generate shorter_lucky_list\n",
        "shorter_lucky_list = [number + 10 for number in lucky_list]\n",
        "\n",
        "# If you want to ensure uniqueness in shorter_lucky_list, you can use a set\n",
        "shorter_lucky_list = list(set(shorter_lucky_list))\n",
        "\n",
        "# Printing the results\n",
        "print(\"Original Lucky List:\", lucky_list)\n",
        "print(\"Shorter Lucky List:\", shorter_lucky_list)\n"
      ],
      "metadata": {
        "colab": {
          "base_uri": "https://localhost:8080/"
        },
        "id": "h3JGpVjig0Tu",
        "outputId": "7963ac96-0a54-492b-a31f-a923130e7e1f"
      },
      "execution_count": null,
      "outputs": [
        {
          "output_type": "stream",
          "name": "stdout",
          "text": [
            "Original Lucky List: [77, 72, 54, 50, 44, 95, 11, 81, 1, 62]\n",
            "Shorter Lucky List: [64, 72, 105, 11, 82, 21, 54, 87, 91, 60]\n"
          ]
        }
      ]
    },
    {
      "cell_type": "code",
      "source": [
        "# Assuming lucky_list is your original list of lucky numbers\n",
        "# Generate shorter_lucky_list\n",
        "shorter_lucky_list = list(set([number + 10 for number in lucky_list]))\n",
        "\n",
        "# Number of tries\n",
        "tries_count = 1\n",
        "\n",
        "# Printing the message\n",
        "print(f\"This is try#{tries_count} and the new list is: {shorter_lucky_list}, choose the lucky number?\")\n"
      ],
      "metadata": {
        "colab": {
          "base_uri": "https://localhost:8080/"
        },
        "id": "kD9CddWZhI48",
        "outputId": "dd48854a-5065-4c25-c1a8-efadcd50d7b5"
      },
      "execution_count": null,
      "outputs": [
        {
          "output_type": "stream",
          "name": "stdout",
          "text": [
            "This is try#1 and the new list is: [64, 72, 105, 11, 82, 21, 54, 87, 91, 60], choose the lucky number?\n"
          ]
        }
      ]
    }
  ]
}