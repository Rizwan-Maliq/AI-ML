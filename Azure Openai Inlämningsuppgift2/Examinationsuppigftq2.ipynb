{
 "cells": [
  {
   "cell_type": "code",
   "execution_count": 17,
   "metadata": {},
   "outputs": [],
   "source": [
    "import os\n",
    "from langchain.chat_models import AzureChatOpenAI\n",
    "\n",
    "# from langchain.llms import AzureOpenAI ==> inte aktiv nu"
   ]
  },
  {
   "cell_type": "code",
   "execution_count": 34,
   "metadata": {},
   "outputs": [],
   "source": [
    "class MyNLP:\n",
    "    def __init__(self):\n",
    "        os.environ[\"OPENAI_API_TYPE\"] = \"azure\"\n",
    "os.environ[\"OPENAI_API_VERSION\"] = \"2023-06-01-preview\"\n",
    "os.environ[\"OPENAI_API_BASE\"] = \"https://learn2earn.openai.azure.com/\" \n",
    "os.environ[\"OPENAI_API_KEY\"] = '52d882ddd62f4f79b182fc771f2dcfa7'\n",
    "os.environ[\"AZUREML_ENDPOINT_API_KEY\"] = '62ae9cd7682b4a868b6d53f24ba0c5a2'\n",
    "os.environ[\"AZUREML_ENDPOINT_URL\"] = 'https://learn2earn.openai.azure.com/openai/deployments/L2EGpt34T16K/chat/completions?api-version=2023-03-15-preview'"
   ]
  },
  {
   "cell_type": "code",
   "execution_count": 19,
   "metadata": {},
   "outputs": [],
   "source": [
    "#os.environ[\"AZURE_OPENAI_API_KEY\"] = '52d882ddd62f4f79b182fc771f2dcfa7'\n",
    "#os.environ[\"AZURE_OPENAI_ENDPOINT\"] = \"https//learn2earn.openai.azure.com/openai\""
   ]
  },
  {
   "cell_type": "code",
   "execution_count": 68,
   "metadata": {},
   "outputs": [],
   "source": [
    "def create_chat_model(self):\n",
    "        # Chat Model Instance\n",
    "\n",
    "        self.chat = AzureChatOpenAI(\n",
    "            openai_api_version=\"2023-07-01-preview\",\n",
    "            deployment_name=\"L2EGpt35T\",\n",
    "            model_name=\"gpt-35-turbo\",\n",
    "            temperature=0,\n",
    "            max_tokens=300\n",
    "        )"
   ]
  },
  {
   "cell_type": "code",
   "execution_count": 69,
   "metadata": {},
   "outputs": [],
   "source": [
    "# import different type of messages in chat models from langchain\n",
    "from langchain.schema import AIMessage,HumanMessage,SystemMessage;"
   ]
  },
  {
   "cell_type": "code",
   "execution_count": 70,
   "metadata": {},
   "outputs": [],
   "source": [
    "def facts_teller(self, subject):\n",
    "        self.create_chat_model()"
   ]
  },
  {
   "cell_type": "code",
   "execution_count": 77,
   "metadata": {},
   "outputs": [],
   "source": [
    "result = chat([HumanMessage(content=\"Tell me about Stockholm city\")])"
   ]
  },
  {
   "cell_type": "code",
   "execution_count": 78,
   "metadata": {},
   "outputs": [
    {
     "data": {
      "text/plain": [
       "langchain_core.messages.ai.AIMessage"
      ]
     },
     "execution_count": 78,
     "metadata": {},
     "output_type": "execute_result"
    }
   ],
   "source": [
    "type(result)"
   ]
  },
  {
   "cell_type": "code",
   "execution_count": 79,
   "metadata": {},
   "outputs": [
    {
     "data": {
      "text/plain": [
       "{'title': 'AIMessage',\n",
       " 'description': 'A Message from an AI.',\n",
       " 'type': 'object',\n",
       " 'properties': {'content': {'title': 'Content',\n",
       "   'anyOf': [{'type': 'string'},\n",
       "    {'type': 'array',\n",
       "     'items': {'anyOf': [{'type': 'string'}, {'type': 'object'}]}}]},\n",
       "  'additional_kwargs': {'title': 'Additional Kwargs', 'type': 'object'},\n",
       "  'type': {'title': 'Type', 'default': 'ai', 'enum': ['ai'], 'type': 'string'},\n",
       "  'example': {'title': 'Example', 'default': False, 'type': 'boolean'}},\n",
       " 'required': ['content']}"
      ]
     },
     "execution_count": 79,
     "metadata": {},
     "output_type": "execute_result"
    }
   ],
   "source": [
    "result.schema()"
   ]
  },
  {
   "cell_type": "code",
   "execution_count": 80,
   "metadata": {},
   "outputs": [
    {
     "name": "stdout",
     "output_type": "stream",
     "text": [
      "Stockholm is the capital and largest city of Sweden, located on the east coast of the country. It is built on 14 islands connected by 57 bridges, which gives it the nickname \"Venice of the North\". The city has a population of around 1.5 million people in the metropolitan area.\n",
      "\n",
      "Stockholm is known for its beautiful architecture, historic landmarks, and cultural attractions. The Old Town, or Gamla Stan, is a popular tourist destination with its narrow cobblestone streets, colorful buildings, and medieval churches. Other notable landmarks include the Royal Palace, City Hall, and the Vasa Museum, which houses a 17th-century warship that sank on its maiden voyage.\n",
      "\n",
      "The city is also known for its vibrant arts and culture scene, with numerous museums, galleries, and theaters. The Stockholm Concert Hall is home to the Royal Stockholm Philharmonic Orchestra, while the Stockholm Opera House hosts world-class opera and ballet performances.\n",
      "\n",
      "Stockholm is also a hub for business and innovation, with many multinational companies and startups based in the city. It is home to several universities and research institutions, making it a center for academic excellence.\n",
      "\n",
      "Overall, Stockholm is a beautiful and dynamic city with a rich history and culture, making it a popular destination for tourists and a great place to live and work.\n"
     ]
    }
   ],
   "source": [
    "print(result.content)"
   ]
  },
  {
   "cell_type": "code",
   "execution_count": 103,
   "metadata": {},
   "outputs": [],
   "source": [
    "from langchain.prompts import (\n",
    "    ChatPromptTemplate,\n",
    "    PromptTemplate,\n",
    "    SystemMessagePromptTemplate,\n",
    "    AIMessagePromptTemplate,\n",
    "    HumanMessagePromptTemplate,\n",
    ")"
   ]
  },
  {
   "cell_type": "code",
   "execution_count": 92,
   "metadata": {},
   "outputs": [],
   "source": [
    "#system_message_prompt = None"
   ]
  },
  {
   "cell_type": "code",
   "execution_count": 116,
   "metadata": {},
   "outputs": [],
   "source": [
    "def find_best_trip_plan(self, interest, budget_per_person, persons):\n",
    "        # Create templates for system and human messages\n",
    "        system_template = \"You are a trip planner assistant that specializes in {interest} trips with a budget of {budget} per person for {num_persons} persons.\"\n",
    "system_message_prompt = SystemMessagePromptTemplate.from_template(system_template)"
   ]
  },
  {
   "cell_type": "code",
   "execution_count": 117,
   "metadata": {},
   "outputs": [
    {
     "data": {
      "text/plain": [
       "langchain_core.prompts.chat.SystemMessagePromptTemplate"
      ]
     },
     "execution_count": 117,
     "metadata": {},
     "output_type": "execute_result"
    }
   ],
   "source": [
    "type(system_message_prompt)"
   ]
  },
  {
   "cell_type": "code",
   "execution_count": 118,
   "metadata": {},
   "outputs": [
    {
     "data": {
      "text/plain": [
       "['budget', 'interest', 'num_persons']"
      ]
     },
     "execution_count": 118,
     "metadata": {},
     "output_type": "execute_result"
    }
   ],
   "source": [
    "system_message_prompt.input_variables"
   ]
  },
  {
   "cell_type": "code",
   "execution_count": 119,
   "metadata": {},
   "outputs": [],
   "source": [
    "human_template = \"Plan a trip for {interest} with a budget of {budget} per person for {num_persons} persons.\"\n",
    "human_message_prompt = HumanMessagePromptTemplate.from_template(human_template)"
   ]
  },
  {
   "cell_type": "code",
   "execution_count": 120,
   "metadata": {},
   "outputs": [],
   "source": [
    "# Collect prompts in one chat for trip planning\n",
    "chat_prompt = ChatPromptTemplate.from_messages([system_message_prompt, human_message_prompt])"
   ]
  },
  {
   "cell_type": "code",
   "execution_count": 121,
   "metadata": {},
   "outputs": [
    {
     "data": {
      "text/plain": [
       "['budget', 'interest', 'num_persons']"
      ]
     },
     "execution_count": 121,
     "metadata": {},
     "output_type": "execute_result"
    }
   ],
   "source": [
    "chat_prompt.input_variables"
   ]
  },
  {
   "cell_type": "code",
   "execution_count": 122,
   "metadata": {},
   "outputs": [],
   "source": [
    "template_chat_prompt = chat_prompt.format_prompt(\n",
    "            interest=\"Swimming\",\n",
    "            budget=\"1500USD\",\n",
    "            num_persons=\"4\"\n",
    "        ).to_messages()"
   ]
  },
  {
   "cell_type": "code",
   "execution_count": 123,
   "metadata": {},
   "outputs": [
    {
     "data": {
      "text/plain": [
       "[SystemMessage(content='You are a trip planner assistant that specializes in Swimming trips with a budget of 1500USD per person for 4 persons.'),\n",
       " HumanMessage(content='Plan a trip for Swimming with a budget of 1500USD per person for 4 persons.')]"
      ]
     },
     "execution_count": 123,
     "metadata": {},
     "output_type": "execute_result"
    }
   ],
   "source": [
    "template_chat_prompt"
   ]
  },
  {
   "cell_type": "code",
   "execution_count": 124,
   "metadata": {},
   "outputs": [],
   "source": [
    "response_meal = chat(template_chat_prompt)"
   ]
  },
  {
   "cell_type": "code",
   "execution_count": 125,
   "metadata": {},
   "outputs": [
    {
     "data": {
      "text/plain": [
       "\"Great! Here's a suggested itinerary for a swimming trip with a budget of 1500USD per person for 4 persons:\\n\\nDay 1: Arrival in Cancun, Mexico\\n- Fly into Cancun International Airport\\n- Check into a budget-friendly hotel near the beach\\n- Spend the day relaxing on the beach and exploring the local area\\n\\nDay 2: Snorkeling in Cozumel\\n- Take a ferry to Cozumel Island\\n- Go snorkeling in the crystal-clear waters of the Caribbean Sea\\n- Enjoy a seafood lunch on the island\\n- Return to Cancun in the evening\\n\\nDay 3: Cenote Swimming\\n- Visit a nearby cenote, a natural swimming hole formed by the collapse of limestone bedrock\\n- Swim in the cool, clear waters and explore the underwater caves\\n- Have a picnic lunch at the cenote\\n- Return to Cancun in the evening\\n\\nDay 4: Scuba Diving in Playa del Carmen\\n- Take a day trip to Playa del Carmen\\n- Go scuba diving in the world-famous coral reefs of the Riviera Maya\\n- Enjoy a beachside lunch and explore the town\\n- Return to Cancun in the evening\\n\\nDay 5: Beach Day\\n- Spend the day relaxing on the beach and soaking up the sun\\n- Try some water sports like paddleboarding or kayaking\\n- Have a beachside lunch and enjoy the local nightlife\\n\\nDay 6:\""
      ]
     },
     "execution_count": 125,
     "metadata": {},
     "output_type": "execute_result"
    }
   ],
   "source": [
    "response_meal.content"
   ]
  },
  {
   "cell_type": "code",
   "execution_count": 127,
   "metadata": {},
   "outputs": [
    {
     "name": "stdout",
     "output_type": "stream",
     "text": [
      "Great! Here's a suggested itinerary for a swimming trip with a budget of 1500USD per person for 4 persons:\n",
      "\n",
      "Day 1: Arrival in Cancun, Mexico\n",
      "- Fly into Cancun International Airport\n",
      "- Check into a budget-friendly hotel near the beach\n",
      "- Spend the day relaxing on the beach and exploring the local area\n",
      "\n",
      "Day 2: Snorkeling in Cozumel\n",
      "- Take a ferry to Cozumel Island\n",
      "- Go snorkeling in the crystal-clear waters of the Caribbean Sea\n",
      "- Enjoy a seafood lunch on the island\n",
      "- Return to Cancun in the evening\n",
      "\n",
      "Day 3: Cenote Swimming\n",
      "- Visit a nearby cenote, a natural swimming hole formed by the collapse of limestone bedrock\n",
      "- Swim in the cool, clear waters and explore the underwater caves\n",
      "- Have a picnic lunch at the cenote\n",
      "- Return to Cancun in the evening\n",
      "\n",
      "Day 4: Scuba Diving in Playa del Carmen\n",
      "- Take a day trip to Playa del Carmen\n",
      "- Go scuba diving in the world-famous coral reefs of the Riviera Maya\n",
      "- Enjoy a beachside lunch and explore the town\n",
      "- Return to Cancun in the evening\n",
      "\n",
      "Day 5: Beach Day\n",
      "- Spend the day relaxing on the beach and soaking up the sun\n",
      "- Try some water sports like paddleboarding or kayaking\n",
      "- Have a beachside lunch and enjoy the local nightlife\n",
      "\n",
      "Day 6:\n"
     ]
    }
   ],
   "source": [
    "print(response_meal.content)"
   ]
  }
 ],
 "metadata": {
  "kernelspec": {
   "display_name": "Python 3",
   "language": "python",
   "name": "python3"
  },
  "language_info": {
   "codemirror_mode": {
    "name": "ipython",
    "version": 3
   },
   "file_extension": ".py",
   "mimetype": "text/x-python",
   "name": "python",
   "nbconvert_exporter": "python",
   "pygments_lexer": "ipython3",
   "version": "3.11.7"
  }
 },
 "nbformat": 4,
 "nbformat_minor": 2
}
